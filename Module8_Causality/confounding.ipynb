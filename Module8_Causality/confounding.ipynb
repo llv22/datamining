{
  "nbformat": 4,
  "nbformat_minor": 0,
  "metadata": {
    "kernelspec": {
      "display_name": "Python 3",
      "language": "python",
      "name": "python3"
    },
    "language_info": {
      "codemirror_mode": {
        "name": "ipython",
        "version": 3
      },
      "file_extension": ".py",
      "mimetype": "text/x-python",
      "name": "python",
      "nbconvert_exporter": "python",
      "pygments_lexer": "ipython3",
      "version": "3.6.8"
    },
    "colab": {
      "name": "confounding.ipynb",
      "provenance": []
    }
  },
  "cells": [
    {
      "cell_type": "markdown",
      "metadata": {
        "id": "CuajaBOLzhJa"
      },
      "source": [
        "# Finding the best consultant\n",
        "\n",
        "You work for McKeen Sea, a consulting firm. One of McKeen Sea's most important customers has requested an additional consultant, and you've been tasked to find the best one available out of two potential candidates: Aaron and Ben. Fortunately, McKeen Sea has collected some data on the past performance of these consultants, and so you would like to use the data to make a better decision. "
      ]
    },
    {
      "cell_type": "code",
      "metadata": {
        "id": "0YAPDpUTzhJe"
      },
      "source": [
        "import numpy as np\n",
        "import pandas as pd\n",
        "%matplotlib inline\n",
        "import matplotlib.pyplot as plt\n",
        "\n",
        "import sys\n",
        "sys.path.append(\"..\")\n",
        "\n",
        "\n",
        "! git clone https://github.com/yizuc/datamining.git\n"
      ],
      "execution_count": null,
      "outputs": []
    },
    {
      "cell_type": "code",
      "metadata": {
        "id": "090aRNN_4t-T"
      },
      "source": [
        "from datamining.ds_utils.sample_data import get_project_data\n",
        "\n",
        "\n",
        "data = get_project_data()\n",
        "data.head()"
      ],
      "execution_count": null,
      "outputs": []
    },
    {
      "cell_type": "code",
      "metadata": {
        "id": "KURrL2kBzhJh"
      },
      "source": [
        "data.Consultant.value_counts()"
      ],
      "execution_count": null,
      "outputs": []
    },
    {
      "cell_type": "code",
      "metadata": {
        "id": "GfeRf-zFzhJh"
      },
      "source": [
        "# Some auxiliar functions for plotting\n",
        "def plot_avg_performance(data, groups=None):\n",
        "    plot_auxiliar(data, groups, True)\n",
        "    \n",
        "def plot_number_of_projects(data, groups=None):\n",
        "    plot_auxiliar(data, groups, False)\n",
        "\n",
        "def plot_auxiliar(data, groups, mean=True):\n",
        "    if groups is None:\n",
        "        fig, ax = plt.subplots(nrows=1, ncols=1, figsize=(8, 7))\n",
        "        if mean:\n",
        "            data.groupby(['Consultant']).Performance.mean().plot(kind='bar', rot=0, ax=ax)\n",
        "            plt.ylabel('Avg. performance')\n",
        "            plt.ylim((0, 1))\n",
        "        else:\n",
        "            data.groupby(['Consultant']).Performance.size().plot(kind='bar', rot=0, ax=ax)\n",
        "            plt.ylabel('# of projects')\n",
        "    else:\n",
        "        grouped = data.groupby(groups)\n",
        "        rows = int(grouped.ngroups/2)\n",
        "        fig, axs = plt.subplots(figsize=(16,7*rows), nrows=rows, ncols=2, gridspec_kw=dict(hspace=0.4))\n",
        "        targets = zip(grouped.groups.keys(), axs.flatten())\n",
        "        for i, (key, ax) in enumerate(targets):\n",
        "            if mean:\n",
        "                grouped.get_group(key).groupby('Consultant').Performance.mean().plot(kind='bar', rot=0, ax=ax)\n",
        "                ax.set_ylabel('Avg. performance')\n",
        "                ax.set_ylim((0, 1))\n",
        "            else:\n",
        "                grouped.get_group(key).groupby('Consultant').Performance.size().plot(kind='bar', rot=0, ax=ax)\n",
        "                ax.set_ylabel('# of projects')\n",
        "            key_s = []\n",
        "            if type(key) is not tuple:\n",
        "                key = (key,)\n",
        "            for j, elem in enumerate(key):\n",
        "                key_s.append(elem + ' ' +  groups[j])\n",
        "            ax.set_title(' | '.join(key_s))\n",
        "\n",
        "plot_avg_performance(data)"
      ],
      "execution_count": null,
      "outputs": []
    },
    {
      "cell_type": "markdown",
      "metadata": {
        "id": "hsZkk1xHzhJj"
      },
      "source": [
        "Would this information be useful to assess if Aaron will perform better than Ben? What happens if we split the data by customer?"
      ]
    },
    {
      "cell_type": "code",
      "metadata": {
        "id": "CjN68w5SzhJj"
      },
      "source": [
        "plot_avg_performance(data, groups=['Customer'])"
      ],
      "execution_count": null,
      "outputs": []
    },
    {
      "cell_type": "markdown",
      "metadata": {
        "id": "NuGw26PuzhJk"
      },
      "source": [
        "Ben performs better than Aaron, both with new AND old customers! How can this be possible? "
      ]
    },
    {
      "cell_type": "code",
      "metadata": {
        "id": "8BCW0tREzhJl"
      },
      "source": [
        "plot_number_of_projects(data, groups=['Customer'])"
      ],
      "execution_count": null,
      "outputs": []
    },
    {
      "cell_type": "markdown",
      "metadata": {
        "id": "Ao2hovoBzhJn"
      },
      "source": [
        "While Ben has been working mostly with new customers, Aaron has been working mostly with old customers. To the extent that projects with new customers are more difficult, it makes sense for Ben to have a lower average performance. After all, he's been managing more difficult projects. However, once we account for customer type, we can see that Ben had better performance dealing with both types of customers. \n",
        "\n",
        "So, who do you think will perform better? Do you feel more confident with your answer?\n",
        "\n",
        "Before making a final decision, let's split by project size as well."
      ]
    },
    {
      "cell_type": "code",
      "metadata": {
        "id": "7MjffDI9zhJo"
      },
      "source": [
        "plot_avg_performance(data, groups=['Customer', 'Project'])"
      ],
      "execution_count": null,
      "outputs": []
    },
    {
      "cell_type": "markdown",
      "metadata": {
        "id": "gwSBYff8zhJp"
      },
      "source": [
        "The tides have turned again! Aaron now performs the same or better in all categories. Why?"
      ]
    },
    {
      "cell_type": "code",
      "metadata": {
        "id": "QLryYZeuzhJp"
      },
      "source": [
        "plot_number_of_projects(data, groups=['Customer', 'Project'])"
      ],
      "execution_count": null,
      "outputs": []
    },
    {
      "cell_type": "markdown",
      "metadata": {
        "id": "JIfpwAJlzhJq"
      },
      "source": [
        "Confounding bias once more. Despite working with older customers, Aaron is also working in larger projects. We can see in earlier graphs that larger projects are more difficult (performance is lower), explaining Aaron's lower performance in other graphs. However, once we account for that in our analysis, we can see that Aaron's average performance is better across all categories.\n",
        "\n",
        "So... Do you think we should go about assessing the performance of these consultants? Can we tell which consultant is better using this data set?\n",
        "\n",
        ".\n",
        "\n",
        ".\n",
        "\n",
        ".\n",
        "\n",
        ".\n",
        "\n",
        ".\n",
        "\n",
        ".\n",
        "\n",
        ".\n",
        "\n",
        ".\n",
        "\n",
        ".\n",
        "\n",
        ".\n",
        "\n",
        ".\n",
        "\n",
        ".\n",
        "\n",
        ".\n",
        "\n",
        ".\n",
        "\n",
        ".\n",
        "\n",
        ".\n",
        "\n",
        ".\n",
        "\n",
        "Not without making additional assumptions about the world! Namely, we would have to assume that there is no other omitted variable influencing both performance and project assignment (such as customer type or project size in the earlier examples). If we cannot make this \"no-confounding\" assumption, then we cannot be certain of whether the difference in performance is due to the consultants or ommited variable(s). Unfortunately, this is an assumption that we cannot test with data, which is the main reason why causal inference tends to be so challenging: it is hard to tell whether we are comparing apples with apples here. That being said, very often we still need to make a decision (as in this case), regardless of whether our assumptions are justified. And so, even though our assumptions might be violated, Aaron seems like the more reasonable option.\n",
        "\n",
        "In this particular example, however, there is another variable excluded from our analysis: service type. By including this variable, we can see that both consultants perform the same across all types of projects, and so all differences in performance were driven by factors influencing both performance and project assignment. "
      ]
    },
    {
      "cell_type": "code",
      "metadata": {
        "id": "xmbfkkkFzhJq",
        "outputId": "9bc5bfb4-b2f0-43e2-9eb9-a162e584657b"
      },
      "source": [
        "plt.rcParams['figure.figsize'] = [9, 7]\n",
        "data.groupby(['Customer', 'Project', 'Service', 'Consultant']).Performance.mean().plot(kind='bar')\n",
        "plt.ylabel('Avg. performance')\n",
        "plt.show()\n",
        "plt.rcParams['figure.figsize'] = [9, 7]\n",
        "data.groupby(['Customer', 'Project', 'Service', 'Consultant']).Performance.size().plot(kind='bar')\n",
        "plt.ylabel('# of projects')\n",
        "plt.show()"
      ],
      "execution_count": null,
      "outputs": [
        {
          "data": {
            "image/png": "[encoded data removed]",
            "text/plain": [
              "<Figure size 648x504 with 1 Axes>"
            ]
          },
          "metadata": {
            "needs_background": "light"
          },
          "output_type": "display_data"
        },
        {
          "data": {
            "image/png": "[encoded data removed]",
            "text/plain": [
              "<Figure size 648x504 with 1 Axes>"
            ]
          },
          "metadata": {
            "needs_background": "light"
          },
          "output_type": "display_data"
        }
      ]
    },
    {
      "cell_type": "markdown",
      "metadata": {
        "id": "WpjyClhyzhJr"
      },
      "source": [
        "This is an example of Simpson's paradox. Simpson’s paradox refers to a phenomena whereby the association between a pair of  variables (X, Y) reverses sign upon conditioning of a third variable, Z, regardless of the value taken by Z. If we partition the data into subpopulations, each representing a specific value of the third variable, the phenomena appears as a sign reversal between the associations measured in the disaggregated subpopulations relative to the aggregated data, which describes the population as a whole. For a more graphical explanation, take a look at the following image:\n",
        "\n",
        "![Image of Yaktocat](https://github.com/yizuc/datamining/blob/master/Module8_Causality/paradox.jpeg?raw=1)"
      ]
    },
    {
      "cell_type": "markdown",
      "metadata": {
        "id": "wM2c7UrxzhJr"
      },
      "source": [
        "One thing we can do to circument this issue is to compare projects that are very similar to each other but that differ only on the consultant that they were assigned. This is called *matching* and we can do that using some of the tools we studied in the previous class, such as nearest neighbors."
      ]
    },
    {
      "cell_type": "code",
      "metadata": {
        "id": "z2Z6V9H1zhJs",
        "outputId": "7bda3705-6b3b-41ed-d9cc-51fadf27106e"
      },
      "source": [
        "from sklearn.neighbors import NearestNeighbors\n",
        "\n",
        "dummy_data = pd.get_dummies(data=data, drop_first=True)\n",
        "aaron_obs = dummy_data[dummy_data.Consultant_Ben != 1]\n",
        "ben_obs = dummy_data[dummy_data.Consultant_Ben == 1]\n",
        "aaron_obs = aaron_obs.drop('Consultant_Ben', axis='columns')\n",
        "ben_obs = ben_obs.drop('Consultant_Ben', axis='columns')\n",
        "\n",
        "nbrs = NearestNeighbors(n_neighbors=1).fit(aaron_obs)\n",
        "distances, indices = nbrs.kneighbors(ben_obs)\n",
        "matched_obs = aaron_obs.iloc[indices.reshape(-1)]\n",
        "print(\"Ben Projects\")\n",
        "print(ben_obs.mean())\n",
        "print(\"Aaron's (matched) projects\")\n",
        "print(matched_obs.mean())\n",
        "print(\"Aaron's (unmatched) projects\")\n",
        "print(aaron_obs.mean())"
      ],
      "execution_count": null,
      "outputs": [
        {
          "name": "stdout",
          "output_type": "stream",
          "text": [
            "Ben Projects\n",
            "Performance      0.509259\n",
            "Customer_Old     0.291667\n",
            "Project_Small    0.708333\n",
            "Service_Old      0.291667\n",
            "dtype: float64\n",
            "Aaron's (matched) projects\n",
            "Performance      0.509259\n",
            "Customer_Old     0.291667\n",
            "Project_Small    0.708333\n",
            "Service_Old      0.291667\n",
            "dtype: float64\n",
            "Aaron's (unmatched) projects\n",
            "Performance      0.601852\n",
            "Customer_Old     0.708333\n",
            "Project_Small    0.291667\n",
            "Service_Old      0.708333\n",
            "dtype: float64\n"
          ]
        }
      ]
    }
  ]
}