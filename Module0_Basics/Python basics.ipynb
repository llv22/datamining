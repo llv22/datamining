{
 "cells": [
  {
   "cell_type": "markdown",
   "metadata": {
    "id": "RgS_diZN_f5M"
   },
   "source": [
    "# Python basics\n",
    "\n"
   ]
  },
  {
   "cell_type": "markdown",
   "metadata": {
    "id": "rM0KFZQv_f5Q"
   },
   "source": [
    "This notebook shows examples of Python code, including built-in functions, packages and programming structures useful for Data Science and Business Analytics. This should be review for you all!  At the bottom there are some pointers to a few resources."
   ]
  },
  {
   "cell_type": "markdown",
   "metadata": {
    "id": "MOcKPvOA_f5Q"
   },
   "source": [
    "## Python code"
   ]
  },
  {
   "cell_type": "markdown",
   "metadata": {
    "id": "5rpgHauY_f5Q"
   },
   "source": [
    "### 1. Variables, operations and data types\n",
    "Variables are used to store data. \n",
    "The data can be of a variety of types: \n",
    "\n",
    "- Integer numbers\n",
    "- Floating (decimal numbers)\n",
    "- Strings\n",
    "\n",
    "Let's create three variables, one of each type, with 3 different names:"
   ]
  },
  {
   "cell_type": "code",
   "execution_count": null,
   "metadata": {
    "collapsed": true,
    "id": "PetGEllx_f5R"
   },
   "outputs": [],
   "source": [
    "some_integer = 5\n",
    "some_float = 7.12\n",
    "some_string = \"Student\""
   ]
  },
  {
   "cell_type": "markdown",
   "metadata": {
    "id": "o-tvSugI_f5S"
   },
   "source": [
    "We can print out these variables. Remember we need to run the previous cell first!"
   ]
  },
  {
   "cell_type": "code",
   "execution_count": null,
   "metadata": {
    "id": "yDZBgDTK_f5S"
   },
   "outputs": [],
   "source": [
    "print (some_integer)\n",
    "print (some_float)\n",
    "print (some_string)"
   ]
  },
  {
   "cell_type": "markdown",
   "metadata": {
    "id": "AxjK6WZm_f5U"
   },
   "source": [
    "What if I want to print some text and then some numbers? One easy way to do this is to realize that printing will always **want** string data. \n",
    "\n",
    "If you have data that is not a string (like an integer or float), you can **convert** it to a string: "
   ]
  },
  {
   "cell_type": "code",
   "execution_count": null,
   "metadata": {
    "id": "x4FCH9jm_f5V"
   },
   "outputs": [],
   "source": [
    "print (\"My integer is \" + str(some_integer) + \".\")\n",
    "print (\"My float converted into integer is \" + str( int(some_float) ) + \".\")"
   ]
  },
  {
   "cell_type": "markdown",
   "metadata": {
    "id": "bRgGGl7Y_f5W"
   },
   "source": [
    "What else can we do with our variables? We can do basic math: **operations**."
   ]
  },
  {
   "cell_type": "code",
   "execution_count": null,
   "metadata": {
    "id": "kZZyEKYG_f5W"
   },
   "outputs": [],
   "source": [
    "print (\"sum \" + str( some_integer + some_float ))\n",
    "print (\"multiplication \" + str ( some_integer * some_float ))\n",
    "print (\"quotient \" + str( some_integer / some_float ))\n",
    "print (\"power \" + str( 10**some_integer ))"
   ]
  },
  {
   "cell_type": "markdown",
   "metadata": {
    "id": "c2j_RGNr_f5X"
   },
   "source": [
    "We can store this as a new variable and print it:"
   ]
  },
  {
   "cell_type": "code",
   "execution_count": null,
   "metadata": {
    "id": "QFmKG7XJ_f5X"
   },
   "outputs": [],
   "source": [
    "my_sum = some_integer + some_float\n",
    "print (\"Sum variable: \" + str( my_sum ))"
   ]
  },
  {
   "cell_type": "markdown",
   "metadata": {
    "id": "puSxSYLm_f5X"
   },
   "source": [
    "There are also other **data structures**:\n",
    "\n",
    "- Lists (sometimes refered to as \"arrays\", but look up the difference)\n",
    "- Dictionaries\n",
    "- Sets\n"
   ]
  },
  {
   "cell_type": "code",
   "execution_count": null,
   "metadata": {
    "id": "AvtxAmZu_f5X"
   },
   "outputs": [],
   "source": [
    "some_list = [0,0,1,2,3,3,4.5,7.6]\n",
    "some_dictionary = {'student1': '(929)-000-0000', 'student2': '(917)-000-0000', 'student3': '(470)-000-0000'}\n",
    "some_set = set( [1,2,4,4,5,5] )\n",
    "\n",
    "print (\"This is a list:  \" + str(some_list))\n",
    "print (\"This is a dictionary:  \" + str( some_dictionary ))\n",
    "print (\"This is a set:  \" + str( some_set ))"
   ]
  },
  {
   "cell_type": "markdown",
   "metadata": {
    "id": "JzSIYaj-_f5Y"
   },
   "source": [
    "How can we use  **individual** elements? \n",
    "\n",
    "In Python (and generally by computer science convention), we count elements of a _list_ starting from zero! To get the first item we should look in the 0th space:\n"
   ]
  },
  {
   "cell_type": "code",
   "execution_count": null,
   "metadata": {
    "id": "lDy8zIZR_f5Y"
   },
   "outputs": [],
   "source": [
    "print (some_list[0])"
   ]
  },
  {
   "cell_type": "markdown",
   "metadata": {
    "id": "wVpLNZ2V_f5Y"
   },
   "source": [
    "Adding things to the end of the list is \"appending\" them:"
   ]
  },
  {
   "cell_type": "code",
   "execution_count": null,
   "metadata": {
    "id": "EeAw-NGf_f5Y"
   },
   "outputs": [],
   "source": [
    "some_list.append(500)\n",
    "print (some_list)"
   ]
  },
  {
   "cell_type": "markdown",
   "metadata": {
    "id": "5r6Rx9DD_f5Z"
   },
   "source": [
    "How can we retrieve an element (**VALUE**) of a _dictionary_ ?  Use its **\"KEY\"** !! "
   ]
  },
  {
   "cell_type": "code",
   "execution_count": null,
   "metadata": {
    "id": "36TGKgXQ_f5Z"
   },
   "outputs": [],
   "source": [
    "print (some_dictionary['student1'])"
   ]
  },
  {
   "cell_type": "markdown",
   "metadata": {
    "id": "mLIxLL9H_f5Z"
   },
   "source": [
    "For more customizable string creation and printing, python also includes rich formatting capability that may be familiar to developers of other high-level programming language. Some examples are below. In a nutshell, one adds placeholders to the string being constructed. These placeholders always start with a `%` followed by some additional information that determines how the data will be formatted. After the string, another `%` is used, followed by the acutal data that is to be inserted in the prior placeholders. The full capabilities of python string formatting are beyond the scope of this primer, for more info, please consult the [offical documentation](https://docs.python.org/2/library/stdtypes.html#string-formatting)."
   ]
  },
  {
   "cell_type": "code",
   "execution_count": null,
   "metadata": {
    "id": "c24ZG-ya_f5a"
   },
   "outputs": [],
   "source": [
    "print (\"generic %s formatting, equivalent to the str() functionality seen earlier\" % \"STRING\")\n",
    "print (\"an example with zero padding an integer %003d and multiple %s\" % (5, \"PLACEHOLDERS\"))\n",
    "print (\"often one wants to truncate the precision when displaying floats %.3f\" % 3.1415926536)"
   ]
  },
  {
   "cell_type": "markdown",
   "metadata": {
    "id": "TcAoCLDm_f5a"
   },
   "source": [
    "### 2. Create functions"
   ]
  },
  {
   "cell_type": "markdown",
   "metadata": {
    "id": "WF2-ghl9_f5a"
   },
   "source": [
    "Functions allow us to execute predefined operations and to define our own operations that will be available later.  They encapsulate procedures. If we know we are likely to execute some operation many times, we may want to save time, to avoid repeated code, and often to clarify what we are doing.  To do this, we would define a function.  \n",
    "\n",
    "(*If you haven't thought this through before, consider the drawback of repeated code: what if later you realize that you need to fix something in that code block.  You'd have to go through and fix it everywhere.*) \n",
    "\n",
    "For example, consider having to calculate the area of a circle."
   ]
  },
  {
   "cell_type": "code",
   "execution_count": null,
   "metadata": {
    "collapsed": true,
    "id": "5mVqkd0n_f5a"
   },
   "outputs": [],
   "source": [
    "def area_of_a_circle(radius):\n",
    "    area = 3.1416 * radius ** 2\n",
    "    return area"
   ]
  },
  {
   "cell_type": "code",
   "execution_count": null,
   "metadata": {
    "id": "HvN5ny4c_f5b"
   },
   "outputs": [],
   "source": [
    "circle_area = area_of_a_circle(5)\n",
    "print (\"Area of a circle with radius 5 is: \" + str( circle_area))"
   ]
  },
  {
   "cell_type": "markdown",
   "metadata": {
    "id": "39CT1kov_f5b"
   },
   "source": [
    "Can you see what is going on here? My function that I helpfully named `\"area_of_a_circle\"` takes one **argument** that we will call radius. It then uses this radius to get the area and then *returns* it. Now, whenever I want to get the area of some circle, I simply call `area_of_a_circle()` and place the radius in the middle of the parentheses."
   ]
  },
  {
   "cell_type": "markdown",
   "metadata": {
    "id": "tMq68Q9s_f5b"
   },
   "source": [
    "### 3. Loops / iterations"
   ]
  },
  {
   "cell_type": "markdown",
   "metadata": {
    "id": "lgMI5TRI_f5b"
   },
   "source": [
    "For data analysis we do a lot of repetitive things. This doesn't mean we need to do a ton of copy and pasting, though. We can use **loops** to make this easy. As a very simple example, what if we wanted to square each number from 1 to 5?"
   ]
  },
  {
   "cell_type": "code",
   "execution_count": null,
   "metadata": {
    "id": "JQWnQi5Q_f5b"
   },
   "outputs": [],
   "source": [
    "for number in [1, 2, 3, 4, 5]:\n",
    "    print (number * number)"
   ]
  },
  {
   "cell_type": "markdown",
   "metadata": {
    "id": "LZrrS4ck_f5b"
   },
   "source": [
    "Let's use the function we did before. Remember this is a function that can only be used in **this notebook** \n",
    "\n",
    "( unless we write a **\"script\"** file, but we'll see that later... ):"
   ]
  },
  {
   "cell_type": "code",
   "execution_count": null,
   "metadata": {
    "id": "ajBtLUPe_f5c"
   },
   "outputs": [],
   "source": [
    "for number in [1, 2, 3, 4, 5]:\n",
    "    print (\"Area of circle with radius \" + str(number) + \" is: \" + str( area_of_a_circle(number) ))"
   ]
  },
  {
   "cell_type": "markdown",
   "metadata": {
    "id": "JmLIgq0R_f5c"
   },
   "source": [
    "### 4. Conditionals and comparisons"
   ]
  },
  {
   "cell_type": "markdown",
   "metadata": {
    "id": "aSDeMxFK_f5c"
   },
   "source": [
    "Sometimes we need to check something before deciding what to do next. For example,"
   ]
  },
  {
   "cell_type": "code",
   "execution_count": null,
   "metadata": {
    "collapsed": true,
    "id": "jLm8s4cC_f5c"
   },
   "outputs": [],
   "source": [
    "def is_best_prof(name):\n",
    "    if name == \"Foster\":\n",
    "        return True\n",
    "    else:\n",
    "        return False"
   ]
  },
  {
   "cell_type": "code",
   "execution_count": null,
   "metadata": {
    "id": "7YS-elEX_f5c"
   },
   "outputs": [],
   "source": [
    "print (is_best_prof(\"Foster\"))"
   ]
  },
  {
   "cell_type": "code",
   "execution_count": null,
   "metadata": {
    "id": "3eADer3l_f5c"
   },
   "outputs": [],
   "source": [
    "print (is_best_prof(\"John\"))"
   ]
  },
  {
   "cell_type": "code",
   "execution_count": null,
   "metadata": {
    "id": "vs25AdLf_f5d",
    "outputId": "83f1c128-d461-4244-e8a7-3c9dac3d5c25"
   },
   "outputs": [
    {
     "name": "stdout",
     "output_type": "stream",
     "text": [
      "You're going to have a great semester!\n"
     ]
    }
   ],
   "source": [
    "my_prof = \"Foster\"\n",
    "if is_best_prof(my_prof):\n",
    "    print(\"You're going to have a great semester!\")\n",
    "else:\n",
    "    print(\"Well, make the best of it!\")"
   ]
  },
  {
   "cell_type": "markdown",
   "metadata": {
    "id": "t3D_GtrH_f5d"
   },
   "source": [
    "You see in that last one how we have a conditional in the cell, and then call a function that has a conditional inside it?  \n",
    "\n",
    "Let's put a whole bunch of these things together:"
   ]
  },
  {
   "cell_type": "code",
   "execution_count": null,
   "metadata": {
    "id": "um3wP30l_f5d",
    "outputId": "ed9175ae-a2f1-4211-ed0a-96a5d7665bee"
   },
   "outputs": [
    {
     "name": "stdout",
     "output_type": "stream",
     "text": [
      "Well, make the best of it!\n"
     ]
    }
   ],
   "source": [
    "my_profs = [\"John\", \"Paul\", \"George\", \"Ringo\"]\n",
    "one_best = False\n",
    "for prof in my_profs:\n",
    "    if is_best_prof(prof):\n",
    "        one_best = True\n",
    "if one_best:\n",
    "    print(\"You're going to have a great semester!\")\n",
    "else:\n",
    "    print(\"Well, make the best of it!\")"
   ]
  },
  {
   "cell_type": "markdown",
   "metadata": {
    "id": "RTN0cV2l_f5d"
   },
   "source": [
    "As we can see here, we made **comparison** of names with the \"equal\" operation  (==).  Remember ... it's == not just = !\n",
    "\n",
    "Other comparisons:\n",
    "\n",
    "- strictly less than  < \n",
    "- less than or equal  <=\n",
    "- strictly greater than  >\n",
    "- greater than or equal  >=\n",
    "- not equal  !=\n",
    "- object identity  \"is\"\n",
    "- negated object identity \"is not\"\n",
    "\n",
    "What if we want to compare more than one element? \n",
    "We should include logical operations such as:\n",
    "\n",
    "- \"and\", also known as \"&&\" \n",
    "- \"or\", also known as \"||\"\n",
    "\n",
    "Let's see if you can guess my age with this function!!\n"
   ]
  },
  {
   "cell_type": "code",
   "execution_count": null,
   "metadata": {
    "collapsed": true,
    "id": "AOoXBVra_f5d"
   },
   "outputs": [],
   "source": [
    "def is_my_age(age_argument):\n",
    "    if age_argument < 20:\n",
    "        return \"Of course not!\"\n",
    "    elif (age_argument >= 20) & (age_argument <= 40):\n",
    "        return \"Maybe..\"\n",
    "    elif age_argument > 40:\n",
    "        return \"Don't even think about it!\""
   ]
  },
  {
   "cell_type": "code",
   "execution_count": null,
   "metadata": {
    "id": "iBCKQs24_f5d",
    "outputId": "e2fbf732-6d28-4bae-8a60-201099a1f611"
   },
   "outputs": [
    {
     "name": "stdout",
     "output_type": "stream",
     "text": [
      "Of course not!\n"
     ]
    }
   ],
   "source": [
    "print (is_my_age(10))"
   ]
  },
  {
   "cell_type": "code",
   "execution_count": null,
   "metadata": {
    "id": "zAUTruI-_f5d",
    "outputId": "733fea01-52fd-4c25-f5e6-844d698879ac"
   },
   "outputs": [
    {
     "name": "stdout",
     "output_type": "stream",
     "text": [
      "Maybe..\n"
     ]
    }
   ],
   "source": [
    "print (is_my_age(23))"
   ]
  },
  {
   "cell_type": "code",
   "execution_count": null,
   "metadata": {
    "id": "Bj8joUNX_f5e",
    "outputId": "4d32ff92-9e45-46de-87ec-359e0c843320"
   },
   "outputs": [
    {
     "name": "stdout",
     "output_type": "stream",
     "text": [
      "Don't even think about it!\n"
     ]
    }
   ],
   "source": [
    "print (is_my_age(80))"
   ]
  },
  {
   "cell_type": "markdown",
   "metadata": {
    "id": "4MYHPVlX_f5e"
   },
   "source": [
    "## Help, help, and more help!"
   ]
  },
  {
   "cell_type": "markdown",
   "metadata": {
    "id": "ED3TRgXg_f5e"
   },
   "source": [
    "- [Codecademy's Python Course](https://www.codecademy.com/learn/learn-python-3). Working though this class will give you a _great_ foundation for Python.\n",
    "- [Diving into Python](http://diveinto.org/python3/) online book. Working your way from chapter 1 through chapter 5 would put you in a very nice place!\n",
    "- [Python for Data Analysis](https://www.amazon.com/Python-Data-Analysis-Wrangling-IPython-ebook/dp/B009NLMB8Q/ref=mt_kindle?_encoding=UTF8&me=) was the book that Prof. Foster suggested to prior iterations of this course. You can take a look at the chapters: Preliminaries, Introductory Examples (e.g. \"Counting Time Zones with pandas”), IPython (page 46 to 62) and specially, Pandas--one of the main Python packages for data analysis.  We will work with Pandas in class.\n",
    "- [Pandas Cookbook](https://www.amazon.com/Pandas-Cookbook-Scientific-Computing-Visualization/dp/1784393878) is another great resource to learn Pandas. It has lots of practice problems with detailed solutions in IPython notebooks.\n",
    "\n",
    "\n",
    "If you are ever stuck just remember: it is normal. This is actually how professional programmers work every day. Google is your best friend. `stackoverflow`, a popular programming question and answer site, has an extremely rich repository of solutions to problems that people have encountered, and many capable participants provide answers to those mysterious and rare problems that have not been addressed before. Just remember to look thoroughly before you ask! \n",
    "\n",
    "Finally, programming is a creative process- it can't be brute forced. It's natural to get stuck or frustrated from time to time, even with the incredible resources that are now available. Imagine an author trying to find the perfect paragraph to describe a character. In these situations, I like to go for a walk, listen to some music, or get some exercise. Anything to clear my head. From experience, many seemingly hard programming problems have become solvable only after introducing some fresh perspective, and being stuck while beating your head on the keyboard just isn't fun. "
   ]
  }
 ],
 "metadata": {
  "colab": {
   "name": "Python basics.ipynb",
   "provenance": []
  },
  "kernelspec": {
   "display_name": "Python 3",
   "language": "python",
   "name": "python3"
  },
  "language_info": {
   "codemirror_mode": {
    "name": "ipython",
    "version": 3
   },
   "file_extension": ".py",
   "mimetype": "text/x-python",
   "name": "python",
   "nbconvert_exporter": "python",
   "pygments_lexer": "ipython3",
   "version": "3.8.8"
  }
 },
 "nbformat": 4,
 "nbformat_minor": 1
}
